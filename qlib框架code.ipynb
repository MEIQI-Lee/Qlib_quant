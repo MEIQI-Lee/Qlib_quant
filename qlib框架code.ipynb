{
 "cells": [
  {
   "cell_type": "code",
   "execution_count": 1,
   "id": "0db9d09a-fc96-404f-9a8c-91a5dd5acd63",
   "metadata": {},
   "outputs": [
    {
     "name": "stdout",
     "output_type": "stream",
     "text": [
      "Looking in indexes: https://pypi.tuna.tsinghua.edu.cn/simple\n",
      "Requirement already satisfied: pyqlib in d:\\py\\anaconda3\\envs\\tf2.6\\lib\\site-packages (0.9.6)\n",
      "Requirement already satisfied: cvxpy in d:\\py\\anaconda3\\envs\\tf2.6\\lib\\site-packages (from pyqlib) (1.6.0)\n",
      "Requirement already satisfied: jupyter in d:\\py\\anaconda3\\envs\\tf2.6\\lib\\site-packages (from pyqlib) (1.0.0)\n",
      "Requirement already satisfied: fire in d:\\py\\anaconda3\\envs\\tf2.6\\lib\\site-packages (from pyqlib) (0.7.0)\n",
      "Requirement already satisfied: pymongo in d:\\py\\anaconda3\\envs\\tf2.6\\lib\\site-packages (from pyqlib) (4.10.1)\n",
      "Requirement already satisfied: mlflow in d:\\py\\anaconda3\\envs\\tf2.6\\lib\\site-packages (from pyqlib) (2.19.0)\n",
      "Requirement already satisfied: pandas in d:\\py\\anaconda3\\envs\\tf2.6\\lib\\site-packages (from pyqlib) (2.2.3)\n",
      "Requirement already satisfied: matplotlib in d:\\py\\anaconda3\\envs\\tf2.6\\lib\\site-packages (from pyqlib) (3.6.3)\n",
      "Requirement already satisfied: pyyaml in d:\\py\\anaconda3\\envs\\tf2.6\\lib\\site-packages (from pyqlib) (6.0.1)\n",
      "Requirement already satisfied: python-redis-lock in d:\\py\\anaconda3\\envs\\tf2.6\\lib\\site-packages (from pyqlib) (4.0.0)\n",
      "Requirement already satisfied: filelock>=3.16.0 in d:\\py\\anaconda3\\envs\\tf2.6\\lib\\site-packages (from pyqlib) (3.16.1)\n",
      "Requirement already satisfied: loguru in d:\\py\\anaconda3\\envs\\tf2.6\\lib\\site-packages (from pyqlib) (0.7.3)\n",
      "Requirement already satisfied: ruamel.yaml>=0.17.38 in d:\\py\\anaconda3\\envs\\tf2.6\\lib\\site-packages (from pyqlib) (0.18.10)\n",
      "Requirement already satisfied: numpy in d:\\py\\anaconda3\\envs\\tf2.6\\lib\\site-packages (from pyqlib) (1.26.4)\n",
      "Requirement already satisfied: joblib in d:\\py\\anaconda3\\envs\\tf2.6\\lib\\site-packages (from pyqlib) (1.3.2)\n",
      "Requirement already satisfied: lightgbm in d:\\py\\anaconda3\\envs\\tf2.6\\lib\\site-packages (from pyqlib) (4.5.0)\n",
      "Requirement already satisfied: redis in d:\\py\\anaconda3\\envs\\tf2.6\\lib\\site-packages (from pyqlib) (5.2.1)\n",
      "Requirement already satisfied: dill in d:\\py\\anaconda3\\envs\\tf2.6\\lib\\site-packages (from pyqlib) (0.3.9)\n",
      "Requirement already satisfied: gym in d:\\py\\anaconda3\\envs\\tf2.6\\lib\\site-packages (from pyqlib) (0.26.2)\n",
      "Requirement already satisfied: tqdm in d:\\py\\anaconda3\\envs\\tf2.6\\lib\\site-packages (from pyqlib) (4.67.0)\n",
      "Requirement already satisfied: nbconvert in d:\\py\\anaconda3\\envs\\tf2.6\\lib\\site-packages (from pyqlib) (7.10.0)\n",
      "Requirement already satisfied: ruamel.yaml.clib>=0.2.7 in d:\\py\\anaconda3\\envs\\tf2.6\\lib\\site-packages (from ruamel.yaml>=0.17.38->pyqlib) (0.2.12)\n",
      "Requirement already satisfied: scs>=3.2.4.post1 in d:\\py\\anaconda3\\envs\\tf2.6\\lib\\site-packages (from cvxpy->pyqlib) (3.2.7.post2)\n",
      "Requirement already satisfied: osqp>=0.6.2 in d:\\py\\anaconda3\\envs\\tf2.6\\lib\\site-packages (from cvxpy->pyqlib) (0.6.7.post3)\n",
      "Requirement already satisfied: scipy>=1.1.0 in d:\\py\\anaconda3\\envs\\tf2.6\\lib\\site-packages (from cvxpy->pyqlib) (1.10.1)\n",
      "Requirement already satisfied: clarabel>=0.5.0 in d:\\py\\anaconda3\\envs\\tf2.6\\lib\\site-packages (from cvxpy->pyqlib) (0.9.0)\n",
      "Requirement already satisfied: termcolor in d:\\py\\anaconda3\\envs\\tf2.6\\lib\\site-packages (from fire->pyqlib) (1.1.0)\n",
      "Requirement already satisfied: cloudpickle>=1.2.0 in d:\\py\\anaconda3\\envs\\tf2.6\\lib\\site-packages (from gym->pyqlib) (3.1.0)\n",
      "Requirement already satisfied: importlib_metadata>=4.8.0 in d:\\py\\anaconda3\\envs\\tf2.6\\lib\\site-packages (from gym->pyqlib) (7.0.1)\n",
      "Requirement already satisfied: gym_notices>=0.0.4 in d:\\py\\anaconda3\\envs\\tf2.6\\lib\\site-packages (from gym->pyqlib) (0.0.8)\n",
      "Requirement already satisfied: notebook in d:\\py\\anaconda3\\envs\\tf2.6\\lib\\site-packages (from jupyter->pyqlib) (7.0.8)\n",
      "Requirement already satisfied: ipywidgets in d:\\py\\anaconda3\\envs\\tf2.6\\lib\\site-packages (from jupyter->pyqlib) (8.1.2)\n",
      "Requirement already satisfied: jupyter-console in d:\\py\\anaconda3\\envs\\tf2.6\\lib\\site-packages (from jupyter->pyqlib) (6.6.3)\n",
      "Requirement already satisfied: qtconsole in d:\\py\\anaconda3\\envs\\tf2.6\\lib\\site-packages (from jupyter->pyqlib) (5.5.1)\n",
      "Requirement already satisfied: ipykernel in d:\\py\\anaconda3\\envs\\tf2.6\\lib\\site-packages (from jupyter->pyqlib) (6.28.0)\n",
      "Requirement already satisfied: colorama>=0.3.4 in d:\\py\\anaconda3\\envs\\tf2.6\\lib\\site-packages (from loguru->pyqlib) (0.4.6)\n",
      "Requirement already satisfied: win32-setctime>=1.0.0 in d:\\py\\anaconda3\\envs\\tf2.6\\lib\\site-packages (from loguru->pyqlib) (1.2.0)\n",
      "Requirement already satisfied: contourpy>=1.0.1 in d:\\py\\anaconda3\\envs\\tf2.6\\lib\\site-packages (from matplotlib->pyqlib) (1.1.1)\n",
      "Requirement already satisfied: pillow>=6.2.0 in d:\\py\\anaconda3\\envs\\tf2.6\\lib\\site-packages (from matplotlib->pyqlib) (10.1.0)\n",
      "Requirement already satisfied: pyparsing>=2.2.1 in d:\\py\\anaconda3\\envs\\tf2.6\\lib\\site-packages (from matplotlib->pyqlib) (3.1.1)\n",
      "Requirement already satisfied: fonttools>=4.22.0 in d:\\py\\anaconda3\\envs\\tf2.6\\lib\\site-packages (from matplotlib->pyqlib) (4.46.0)\n",
      "Requirement already satisfied: cycler>=0.10 in d:\\py\\anaconda3\\envs\\tf2.6\\lib\\site-packages (from matplotlib->pyqlib) (0.12.1)\n",
      "Requirement already satisfied: packaging>=20.0 in d:\\py\\anaconda3\\envs\\tf2.6\\lib\\site-packages (from matplotlib->pyqlib) (23.2)\n",
      "Requirement already satisfied: kiwisolver>=1.0.1 in d:\\py\\anaconda3\\envs\\tf2.6\\lib\\site-packages (from matplotlib->pyqlib) (1.4.5)\n",
      "Requirement already satisfied: python-dateutil>=2.7 in d:\\py\\anaconda3\\envs\\tf2.6\\lib\\site-packages (from matplotlib->pyqlib) (2.8.2)\n",
      "Requirement already satisfied: docker<8,>=4.0.0 in d:\\py\\anaconda3\\envs\\tf2.6\\lib\\site-packages (from mlflow->pyqlib) (7.1.0)\n",
      "Requirement already satisfied: alembic!=1.10.0,<2 in d:\\py\\anaconda3\\envs\\tf2.6\\lib\\site-packages (from mlflow->pyqlib) (1.14.0)\n",
      "Requirement already satisfied: Jinja2<4,>=3.0 in d:\\py\\anaconda3\\envs\\tf2.6\\lib\\site-packages (from mlflow->pyqlib) (3.1.3)\n",
      "Requirement already satisfied: waitress<4 in d:\\py\\anaconda3\\envs\\tf2.6\\lib\\site-packages (from mlflow->pyqlib) (3.0.2)\n",
      "Requirement already satisfied: mlflow-skinny==2.19.0 in d:\\py\\anaconda3\\envs\\tf2.6\\lib\\site-packages (from mlflow->pyqlib) (2.19.0)\n",
      "Requirement already satisfied: graphene<4 in d:\\py\\anaconda3\\envs\\tf2.6\\lib\\site-packages (from mlflow->pyqlib) (3.4.3)\n",
      "Requirement already satisfied: sqlalchemy<3,>=1.4.0 in d:\\py\\anaconda3\\envs\\tf2.6\\lib\\site-packages (from mlflow->pyqlib) (2.0.37)\n",
      "Requirement already satisfied: markdown<4,>=3.3 in d:\\py\\anaconda3\\envs\\tf2.6\\lib\\site-packages (from mlflow->pyqlib) (3.4.1)\n",
      "Requirement already satisfied: Flask<4 in d:\\py\\anaconda3\\envs\\tf2.6\\lib\\site-packages (from mlflow->pyqlib) (3.1.0)\n",
      "Requirement already satisfied: pyarrow<19,>=4.0.0 in d:\\py\\anaconda3\\envs\\tf2.6\\lib\\site-packages (from mlflow->pyqlib) (18.1.0)\n",
      "Requirement already satisfied: scikit-learn<2 in d:\\py\\anaconda3\\envs\\tf2.6\\lib\\site-packages (from mlflow->pyqlib) (1.3.2)\n",
      "Requirement already satisfied: gitpython<4,>=3.1.9 in d:\\py\\anaconda3\\envs\\tf2.6\\lib\\site-packages (from mlflow-skinny==2.19.0->mlflow->pyqlib) (3.1.44)\n",
      "Requirement already satisfied: protobuf<6,>=3.12.0 in d:\\py\\anaconda3\\envs\\tf2.6\\lib\\site-packages (from mlflow-skinny==2.19.0->mlflow->pyqlib) (3.20.0)\n",
      "Requirement already satisfied: requests<3,>=2.17.3 in d:\\py\\anaconda3\\envs\\tf2.6\\lib\\site-packages (from mlflow-skinny==2.19.0->mlflow->pyqlib) (2.31.0)\n",
      "Requirement already satisfied: sqlparse<1,>=0.4.0 in d:\\py\\anaconda3\\envs\\tf2.6\\lib\\site-packages (from mlflow-skinny==2.19.0->mlflow->pyqlib) (0.5.3)\n",
      "Requirement already satisfied: databricks-sdk<1,>=0.20.0 in d:\\py\\anaconda3\\envs\\tf2.6\\lib\\site-packages (from mlflow-skinny==2.19.0->mlflow->pyqlib) (0.40.0)\n",
      "Requirement already satisfied: opentelemetry-sdk<3,>=1.9.0 in d:\\py\\anaconda3\\envs\\tf2.6\\lib\\site-packages (from mlflow-skinny==2.19.0->mlflow->pyqlib) (1.29.0)\n",
      "Requirement already satisfied: opentelemetry-api<3,>=1.9.0 in d:\\py\\anaconda3\\envs\\tf2.6\\lib\\site-packages (from mlflow-skinny==2.19.0->mlflow->pyqlib) (1.29.0)\n",
      "Requirement already satisfied: cachetools<6,>=5.0.0 in d:\\py\\anaconda3\\envs\\tf2.6\\lib\\site-packages (from mlflow-skinny==2.19.0->mlflow->pyqlib) (5.2.0)\n",
      "Requirement already satisfied: click<9,>=7.0 in d:\\py\\anaconda3\\envs\\tf2.6\\lib\\site-packages (from mlflow-skinny==2.19.0->mlflow->pyqlib) (8.1.7)\n",
      "Requirement already satisfied: tzdata>=2022.7 in d:\\py\\anaconda3\\envs\\tf2.6\\lib\\site-packages (from pandas->pyqlib) (2024.2)\n",
      "Requirement already satisfied: pytz>=2020.1 in d:\\py\\anaconda3\\envs\\tf2.6\\lib\\site-packages (from pandas->pyqlib) (2023.3.post1)\n",
      "Requirement already satisfied: jupyter-core>=4.7 in d:\\py\\anaconda3\\envs\\tf2.6\\lib\\site-packages (from nbconvert->pyqlib) (5.5.0)\n",
      "Requirement already satisfied: defusedxml in d:\\py\\anaconda3\\envs\\tf2.6\\lib\\site-packages (from nbconvert->pyqlib) (0.7.1)\n",
      "Requirement already satisfied: nbclient>=0.5.0 in d:\\py\\anaconda3\\envs\\tf2.6\\lib\\site-packages (from nbconvert->pyqlib) (0.8.0)\n",
      "Requirement already satisfied: tinycss2 in d:\\py\\anaconda3\\envs\\tf2.6\\lib\\site-packages (from nbconvert->pyqlib) (1.2.1)\n",
      "Requirement already satisfied: nbformat>=5.7 in d:\\py\\anaconda3\\envs\\tf2.6\\lib\\site-packages (from nbconvert->pyqlib) (5.9.2)\n",
      "Requirement already satisfied: pandocfilters>=1.4.1 in d:\\py\\anaconda3\\envs\\tf2.6\\lib\\site-packages (from nbconvert->pyqlib) (1.5.0)\n",
      "Requirement already satisfied: traitlets>=5.1 in d:\\py\\anaconda3\\envs\\tf2.6\\lib\\site-packages (from nbconvert->pyqlib) (5.7.1)\n",
      "Requirement already satisfied: bleach!=5.0.0 in d:\\py\\anaconda3\\envs\\tf2.6\\lib\\site-packages (from nbconvert->pyqlib) (4.1.0)\n",
      "Requirement already satisfied: pygments>=2.4.1 in d:\\py\\anaconda3\\envs\\tf2.6\\lib\\site-packages (from nbconvert->pyqlib) (2.15.1)\n",
      "Requirement already satisfied: beautifulsoup4 in d:\\py\\anaconda3\\envs\\tf2.6\\lib\\site-packages (from nbconvert->pyqlib) (4.12.2)\n",
      "Requirement already satisfied: markupsafe>=2.0 in d:\\py\\anaconda3\\envs\\tf2.6\\lib\\site-packages (from nbconvert->pyqlib) (2.1.3)\n",
      "Requirement already satisfied: jupyterlab-pygments in d:\\py\\anaconda3\\envs\\tf2.6\\lib\\site-packages (from nbconvert->pyqlib) (0.1.2)\n",
      "Requirement already satisfied: mistune<4,>=2.0.3 in d:\\py\\anaconda3\\envs\\tf2.6\\lib\\site-packages (from nbconvert->pyqlib) (2.0.4)\n",
      "Requirement already satisfied: dnspython<3.0.0,>=1.16.0 in d:\\py\\anaconda3\\envs\\tf2.6\\lib\\site-packages (from pymongo->pyqlib) (2.7.0)\n",
      "Requirement already satisfied: async-timeout>=4.0.3 in d:\\py\\anaconda3\\envs\\tf2.6\\lib\\site-packages (from redis->pyqlib) (5.0.1)\n",
      "Requirement already satisfied: Mako in d:\\py\\anaconda3\\envs\\tf2.6\\lib\\site-packages (from alembic!=1.10.0,<2->mlflow->pyqlib) (1.3.8)\n",
      "Requirement already satisfied: typing-extensions>=4 in d:\\py\\anaconda3\\envs\\tf2.6\\lib\\site-packages (from alembic!=1.10.0,<2->mlflow->pyqlib) (4.9.0)\n",
      "Requirement already satisfied: webencodings in d:\\py\\anaconda3\\envs\\tf2.6\\lib\\site-packages (from bleach!=5.0.0->nbconvert->pyqlib) (0.5.1)\n",
      "Requirement already satisfied: six>=1.9.0 in d:\\py\\anaconda3\\envs\\tf2.6\\lib\\site-packages (from bleach!=5.0.0->nbconvert->pyqlib) (1.16.0)\n",
      "Requirement already satisfied: pywin32>=304 in d:\\py\\anaconda3\\envs\\tf2.6\\lib\\site-packages (from docker<8,>=4.0.0->mlflow->pyqlib) (305.1)\n",
      "Requirement already satisfied: urllib3>=1.26.0 in d:\\py\\anaconda3\\envs\\tf2.6\\lib\\site-packages (from docker<8,>=4.0.0->mlflow->pyqlib) (2.1.0)\n",
      "Requirement already satisfied: itsdangerous>=2.2 in d:\\py\\anaconda3\\envs\\tf2.6\\lib\\site-packages (from Flask<4->mlflow->pyqlib) (2.2.0)\n",
      "Requirement already satisfied: Werkzeug>=3.1 in d:\\py\\anaconda3\\envs\\tf2.6\\lib\\site-packages (from Flask<4->mlflow->pyqlib) (3.1.3)\n",
      "Requirement already satisfied: blinker>=1.9 in d:\\py\\anaconda3\\envs\\tf2.6\\lib\\site-packages (from Flask<4->mlflow->pyqlib) (1.9.0)\n",
      "Requirement already satisfied: graphql-core<3.3,>=3.1 in d:\\py\\anaconda3\\envs\\tf2.6\\lib\\site-packages (from graphene<4->mlflow->pyqlib) (3.2.5)\n",
      "Requirement already satisfied: graphql-relay<3.3,>=3.1 in d:\\py\\anaconda3\\envs\\tf2.6\\lib\\site-packages (from graphene<4->mlflow->pyqlib) (3.2.0)\n",
      "Requirement already satisfied: zipp>=0.5 in d:\\py\\anaconda3\\envs\\tf2.6\\lib\\site-packages (from importlib_metadata>=4.8.0->gym->pyqlib) (3.17.0)\n",
      "Requirement already satisfied: platformdirs>=2.5 in d:\\py\\anaconda3\\envs\\tf2.6\\lib\\site-packages (from jupyter-core>=4.7->nbconvert->pyqlib) (3.10.0)\n",
      "Requirement already satisfied: jupyter-client>=6.1.12 in d:\\py\\anaconda3\\envs\\tf2.6\\lib\\site-packages (from nbclient>=0.5.0->nbconvert->pyqlib) (8.6.0)\n",
      "Requirement already satisfied: jsonschema>=2.6 in d:\\py\\anaconda3\\envs\\tf2.6\\lib\\site-packages (from nbformat>=5.7->nbconvert->pyqlib) (4.19.2)\n",
      "Requirement already satisfied: fastjsonschema in d:\\py\\anaconda3\\envs\\tf2.6\\lib\\site-packages (from nbformat>=5.7->nbconvert->pyqlib) (2.16.2)\n",
      "Requirement already satisfied: qdldl in d:\\py\\anaconda3\\envs\\tf2.6\\lib\\site-packages (from osqp>=0.6.2->cvxpy->pyqlib) (0.1.7.post5)\n",
      "Requirement already satisfied: threadpoolctl>=2.0.0 in d:\\py\\anaconda3\\envs\\tf2.6\\lib\\site-packages (from scikit-learn<2->mlflow->pyqlib) (3.2.0)\n",
      "Requirement already satisfied: greenlet!=0.4.17 in d:\\py\\anaconda3\\envs\\tf2.6\\lib\\site-packages (from sqlalchemy<3,>=1.4.0->mlflow->pyqlib) (3.1.1)\n",
      "Requirement already satisfied: soupsieve>1.2 in d:\\py\\anaconda3\\envs\\tf2.6\\lib\\site-packages (from beautifulsoup4->nbconvert->pyqlib) (2.5)\n",
      "Requirement already satisfied: pyzmq>=24 in d:\\py\\anaconda3\\envs\\tf2.6\\lib\\site-packages (from ipykernel->jupyter->pyqlib) (25.1.2)\n",
      "Requirement already satisfied: comm>=0.1.1 in d:\\py\\anaconda3\\envs\\tf2.6\\lib\\site-packages (from ipykernel->jupyter->pyqlib) (0.2.1)\n",
      "Requirement already satisfied: nest-asyncio in d:\\py\\anaconda3\\envs\\tf2.6\\lib\\site-packages (from ipykernel->jupyter->pyqlib) (1.6.0)\n",
      "Requirement already satisfied: tornado>=6.1 in d:\\py\\anaconda3\\envs\\tf2.6\\lib\\site-packages (from ipykernel->jupyter->pyqlib) (6.3.3)\n",
      "Requirement already satisfied: psutil in d:\\py\\anaconda3\\envs\\tf2.6\\lib\\site-packages (from ipykernel->jupyter->pyqlib) (5.9.0)\n",
      "Requirement already satisfied: debugpy>=1.6.5 in d:\\py\\anaconda3\\envs\\tf2.6\\lib\\site-packages (from ipykernel->jupyter->pyqlib) (1.6.7)\n",
      "Requirement already satisfied: ipython>=7.23.1 in d:\\py\\anaconda3\\envs\\tf2.6\\lib\\site-packages (from ipykernel->jupyter->pyqlib) (8.15.0)\n",
      "Requirement already satisfied: matplotlib-inline>=0.1 in d:\\py\\anaconda3\\envs\\tf2.6\\lib\\site-packages (from ipykernel->jupyter->pyqlib) (0.1.6)\n",
      "Requirement already satisfied: widgetsnbextension~=4.0.10 in d:\\py\\anaconda3\\envs\\tf2.6\\lib\\site-packages (from ipywidgets->jupyter->pyqlib) (4.0.10)\n",
      "Requirement already satisfied: jupyterlab-widgets~=3.0.10 in d:\\py\\anaconda3\\envs\\tf2.6\\lib\\site-packages (from ipywidgets->jupyter->pyqlib) (3.0.10)\n",
      "Requirement already satisfied: prompt-toolkit>=3.0.30 in d:\\py\\anaconda3\\envs\\tf2.6\\lib\\site-packages (from jupyter-console->jupyter->pyqlib) (3.0.43)\n",
      "Requirement already satisfied: jupyterlab-server<3,>=2.22.1 in d:\\py\\anaconda3\\envs\\tf2.6\\lib\\site-packages (from notebook->jupyter->pyqlib) (2.25.1)\n",
      "Requirement already satisfied: jupyterlab<4.1,>=4.0.2 in d:\\py\\anaconda3\\envs\\tf2.6\\lib\\site-packages (from notebook->jupyter->pyqlib) (4.0.11)\n",
      "Requirement already satisfied: notebook-shim<0.3,>=0.2 in d:\\py\\anaconda3\\envs\\tf2.6\\lib\\site-packages (from notebook->jupyter->pyqlib) (0.2.3)\n",
      "Requirement already satisfied: jupyter-server<3,>=2.4.0 in d:\\py\\anaconda3\\envs\\tf2.6\\lib\\site-packages (from notebook->jupyter->pyqlib) (2.10.0)\n",
      "Requirement already satisfied: qtpy>=2.4.0 in d:\\py\\anaconda3\\envs\\tf2.6\\lib\\site-packages (from qtconsole->jupyter->pyqlib) (2.4.1)\n",
      "Requirement already satisfied: google-auth~=2.0 in d:\\py\\anaconda3\\envs\\tf2.6\\lib\\site-packages (from databricks-sdk<1,>=0.20.0->mlflow-skinny==2.19.0->mlflow->pyqlib) (2.14.0)\n",
      "Requirement already satisfied: gitdb<5,>=4.0.1 in d:\\py\\anaconda3\\envs\\tf2.6\\lib\\site-packages (from gitpython<4,>=3.1.9->mlflow-skinny==2.19.0->mlflow->pyqlib) (4.0.12)\n",
      "Requirement already satisfied: stack-data in d:\\py\\anaconda3\\envs\\tf2.6\\lib\\site-packages (from ipython>=7.23.1->ipykernel->jupyter->pyqlib) (0.2.0)\n",
      "Requirement already satisfied: jedi>=0.16 in d:\\py\\anaconda3\\envs\\tf2.6\\lib\\site-packages (from ipython>=7.23.1->ipykernel->jupyter->pyqlib) (0.18.1)\n",
      "Requirement already satisfied: exceptiongroup in d:\\py\\anaconda3\\envs\\tf2.6\\lib\\site-packages (from ipython>=7.23.1->ipykernel->jupyter->pyqlib) (1.2.0)\n",
      "Requirement already satisfied: backcall in d:\\py\\anaconda3\\envs\\tf2.6\\lib\\site-packages (from ipython>=7.23.1->ipykernel->jupyter->pyqlib) (0.2.0)\n",
      "Requirement already satisfied: decorator in d:\\py\\anaconda3\\envs\\tf2.6\\lib\\site-packages (from ipython>=7.23.1->ipykernel->jupyter->pyqlib) (5.1.1)\n",
      "Requirement already satisfied: pickleshare in d:\\py\\anaconda3\\envs\\tf2.6\\lib\\site-packages (from ipython>=7.23.1->ipykernel->jupyter->pyqlib) (0.7.5)\n",
      "Requirement already satisfied: rpds-py>=0.7.1 in d:\\py\\anaconda3\\envs\\tf2.6\\lib\\site-packages (from jsonschema>=2.6->nbformat>=5.7->nbconvert->pyqlib) (0.10.6)\n",
      "Requirement already satisfied: referencing>=0.28.4 in d:\\py\\anaconda3\\envs\\tf2.6\\lib\\site-packages (from jsonschema>=2.6->nbformat>=5.7->nbconvert->pyqlib) (0.30.2)\n",
      "Requirement already satisfied: jsonschema-specifications>=2023.03.6 in d:\\py\\anaconda3\\envs\\tf2.6\\lib\\site-packages (from jsonschema>=2.6->nbformat>=5.7->nbconvert->pyqlib) (2023.7.1)\n",
      "Requirement already satisfied: attrs>=22.2.0 in d:\\py\\anaconda3\\envs\\tf2.6\\lib\\site-packages (from jsonschema>=2.6->nbformat>=5.7->nbconvert->pyqlib) (23.1.0)\n",
      "Requirement already satisfied: send2trash>=1.8.2 in d:\\py\\anaconda3\\envs\\tf2.6\\lib\\site-packages (from jupyter-server<3,>=2.4.0->notebook->jupyter->pyqlib) (1.8.2)\n",
      "Requirement already satisfied: jupyter-events>=0.6.0 in d:\\py\\anaconda3\\envs\\tf2.6\\lib\\site-packages (from jupyter-server<3,>=2.4.0->notebook->jupyter->pyqlib) (0.8.0)\n",
      "Requirement already satisfied: argon2-cffi in d:\\py\\anaconda3\\envs\\tf2.6\\lib\\site-packages (from jupyter-server<3,>=2.4.0->notebook->jupyter->pyqlib) (21.3.0)\n",
      "Requirement already satisfied: jupyter-server-terminals in d:\\py\\anaconda3\\envs\\tf2.6\\lib\\site-packages (from jupyter-server<3,>=2.4.0->notebook->jupyter->pyqlib) (0.4.4)\n",
      "Requirement already satisfied: prometheus-client in d:\\py\\anaconda3\\envs\\tf2.6\\lib\\site-packages (from jupyter-server<3,>=2.4.0->notebook->jupyter->pyqlib) (0.14.1)\n",
      "Requirement already satisfied: anyio>=3.1.0 in d:\\py\\anaconda3\\envs\\tf2.6\\lib\\site-packages (from jupyter-server<3,>=2.4.0->notebook->jupyter->pyqlib) (4.2.0)\n",
      "Requirement already satisfied: overrides in d:\\py\\anaconda3\\envs\\tf2.6\\lib\\site-packages (from jupyter-server<3,>=2.4.0->notebook->jupyter->pyqlib) (7.4.0)\n",
      "Requirement already satisfied: websocket-client in d:\\py\\anaconda3\\envs\\tf2.6\\lib\\site-packages (from jupyter-server<3,>=2.4.0->notebook->jupyter->pyqlib) (0.58.0)\n",
      "Requirement already satisfied: terminado>=0.8.3 in d:\\py\\anaconda3\\envs\\tf2.6\\lib\\site-packages (from jupyter-server<3,>=2.4.0->notebook->jupyter->pyqlib) (0.17.1)\n",
      "Requirement already satisfied: pywinpty in d:\\py\\anaconda3\\envs\\tf2.6\\lib\\site-packages (from jupyter-server<3,>=2.4.0->notebook->jupyter->pyqlib) (2.0.10)\n",
      "Requirement already satisfied: async-lru>=1.0.0 in d:\\py\\anaconda3\\envs\\tf2.6\\lib\\site-packages (from jupyterlab<4.1,>=4.0.2->notebook->jupyter->pyqlib) (2.0.4)\n",
      "Requirement already satisfied: jupyter-lsp>=2.0.0 in d:\\py\\anaconda3\\envs\\tf2.6\\lib\\site-packages (from jupyterlab<4.1,>=4.0.2->notebook->jupyter->pyqlib) (2.2.0)\n",
      "Requirement already satisfied: tomli in d:\\py\\anaconda3\\envs\\tf2.6\\lib\\site-packages (from jupyterlab<4.1,>=4.0.2->notebook->jupyter->pyqlib) (2.0.1)\n",
      "Requirement already satisfied: babel>=2.10 in d:\\py\\anaconda3\\envs\\tf2.6\\lib\\site-packages (from jupyterlab-server<3,>=2.22.1->notebook->jupyter->pyqlib) (2.11.0)\n",
      "Requirement already satisfied: json5>=0.9.0 in d:\\py\\anaconda3\\envs\\tf2.6\\lib\\site-packages (from jupyterlab-server<3,>=2.22.1->notebook->jupyter->pyqlib) (0.9.6)\n",
      "Requirement already satisfied: deprecated>=1.2.6 in d:\\py\\anaconda3\\envs\\tf2.6\\lib\\site-packages (from opentelemetry-api<3,>=1.9.0->mlflow-skinny==2.19.0->mlflow->pyqlib) (1.2.15)\n",
      "Requirement already satisfied: opentelemetry-semantic-conventions==0.50b0 in d:\\py\\anaconda3\\envs\\tf2.6\\lib\\site-packages (from opentelemetry-sdk<3,>=1.9.0->mlflow-skinny==2.19.0->mlflow->pyqlib) (0.50b0)\n",
      "Requirement already satisfied: wcwidth in d:\\py\\anaconda3\\envs\\tf2.6\\lib\\site-packages (from prompt-toolkit>=3.0.30->jupyter-console->jupyter->pyqlib) (0.2.5)\n",
      "Requirement already satisfied: idna<4,>=2.5 in d:\\py\\anaconda3\\envs\\tf2.6\\lib\\site-packages (from requests<3,>=2.17.3->mlflow-skinny==2.19.0->mlflow->pyqlib) (3.4)\n",
      "Requirement already satisfied: certifi>=2017.4.17 in d:\\py\\anaconda3\\envs\\tf2.6\\lib\\site-packages (from requests<3,>=2.17.3->mlflow-skinny==2.19.0->mlflow->pyqlib) (2024.2.2)\n",
      "Requirement already satisfied: charset-normalizer<4,>=2 in d:\\py\\anaconda3\\envs\\tf2.6\\lib\\site-packages (from requests<3,>=2.17.3->mlflow-skinny==2.19.0->mlflow->pyqlib) (2.1.1)\n",
      "Requirement already satisfied: sniffio>=1.1 in d:\\py\\anaconda3\\envs\\tf2.6\\lib\\site-packages (from anyio>=3.1.0->jupyter-server<3,>=2.4.0->notebook->jupyter->pyqlib) (1.3.0)\n",
      "Requirement already satisfied: wrapt<2,>=1.10 in d:\\py\\anaconda3\\envs\\tf2.6\\lib\\site-packages (from deprecated>=1.2.6->opentelemetry-api<3,>=1.9.0->mlflow-skinny==2.19.0->mlflow->pyqlib) (1.12.1)\n",
      "Requirement already satisfied: smmap<6,>=3.0.1 in d:\\py\\anaconda3\\envs\\tf2.6\\lib\\site-packages (from gitdb<5,>=4.0.1->gitpython<4,>=3.1.9->mlflow-skinny==2.19.0->mlflow->pyqlib) (5.0.2)\n",
      "Requirement already satisfied: rsa<5,>=3.1.4 in d:\\py\\anaconda3\\envs\\tf2.6\\lib\\site-packages (from google-auth~=2.0->databricks-sdk<1,>=0.20.0->mlflow-skinny==2.19.0->mlflow->pyqlib) (4.9)\n",
      "Requirement already satisfied: pyasn1-modules>=0.2.1 in d:\\py\\anaconda3\\envs\\tf2.6\\lib\\site-packages (from google-auth~=2.0->databricks-sdk<1,>=0.20.0->mlflow-skinny==2.19.0->mlflow->pyqlib) (0.2.8)\n",
      "Requirement already satisfied: parso<0.9.0,>=0.8.0 in d:\\py\\anaconda3\\envs\\tf2.6\\lib\\site-packages (from jedi>=0.16->ipython>=7.23.1->ipykernel->jupyter->pyqlib) (0.8.3)\n",
      "Requirement already satisfied: python-json-logger>=2.0.4 in d:\\py\\anaconda3\\envs\\tf2.6\\lib\\site-packages (from jupyter-events>=0.6.0->jupyter-server<3,>=2.4.0->notebook->jupyter->pyqlib) (2.0.7)\n",
      "Requirement already satisfied: rfc3986-validator>=0.1.1 in d:\\py\\anaconda3\\envs\\tf2.6\\lib\\site-packages (from jupyter-events>=0.6.0->jupyter-server<3,>=2.4.0->notebook->jupyter->pyqlib) (0.1.1)\n",
      "Requirement already satisfied: rfc3339-validator in d:\\py\\anaconda3\\envs\\tf2.6\\lib\\site-packages (from jupyter-events>=0.6.0->jupyter-server<3,>=2.4.0->notebook->jupyter->pyqlib) (0.1.4)\n",
      "Requirement already satisfied: argon2-cffi-bindings in d:\\py\\anaconda3\\envs\\tf2.6\\lib\\site-packages (from argon2-cffi->jupyter-server<3,>=2.4.0->notebook->jupyter->pyqlib) (21.2.0)\n",
      "Requirement already satisfied: executing in d:\\py\\anaconda3\\envs\\tf2.6\\lib\\site-packages (from stack-data->ipython>=7.23.1->ipykernel->jupyter->pyqlib) (0.8.3)\n",
      "Requirement already satisfied: pure-eval in d:\\py\\anaconda3\\envs\\tf2.6\\lib\\site-packages (from stack-data->ipython>=7.23.1->ipykernel->jupyter->pyqlib) (0.2.2)\n",
      "Requirement already satisfied: asttokens in d:\\py\\anaconda3\\envs\\tf2.6\\lib\\site-packages (from stack-data->ipython>=7.23.1->ipykernel->jupyter->pyqlib) (2.0.5)\n",
      "Requirement already satisfied: fqdn in d:\\py\\anaconda3\\envs\\tf2.6\\lib\\site-packages (from jsonschema>=2.6->nbformat>=5.7->nbconvert->pyqlib) (1.5.1)\n",
      "Requirement already satisfied: jsonpointer>1.13 in d:\\py\\anaconda3\\envs\\tf2.6\\lib\\site-packages (from jsonschema>=2.6->nbformat>=5.7->nbconvert->pyqlib) (3.0.0)\n",
      "Requirement already satisfied: uri-template in d:\\py\\anaconda3\\envs\\tf2.6\\lib\\site-packages (from jsonschema>=2.6->nbformat>=5.7->nbconvert->pyqlib) (1.3.0)\n",
      "Requirement already satisfied: webcolors>=1.11 in d:\\py\\anaconda3\\envs\\tf2.6\\lib\\site-packages (from jsonschema>=2.6->nbformat>=5.7->nbconvert->pyqlib) (24.11.1)\n",
      "Requirement already satisfied: isoduration in d:\\py\\anaconda3\\envs\\tf2.6\\lib\\site-packages (from jsonschema>=2.6->nbformat>=5.7->nbconvert->pyqlib) (20.11.0)\n",
      "Requirement already satisfied: pyasn1<0.5.0,>=0.4.6 in d:\\py\\anaconda3\\envs\\tf2.6\\lib\\site-packages (from pyasn1-modules>=0.2.1->google-auth~=2.0->databricks-sdk<1,>=0.20.0->mlflow-skinny==2.19.0->mlflow->pyqlib) (0.4.8)\n",
      "Requirement already satisfied: cffi>=1.0.1 in d:\\py\\anaconda3\\envs\\tf2.6\\lib\\site-packages (from argon2-cffi-bindings->argon2-cffi->jupyter-server<3,>=2.4.0->notebook->jupyter->pyqlib) (1.17.1)\n",
      "Requirement already satisfied: pycparser in d:\\py\\anaconda3\\envs\\tf2.6\\lib\\site-packages (from cffi>=1.0.1->argon2-cffi-bindings->argon2-cffi->jupyter-server<3,>=2.4.0->notebook->jupyter->pyqlib) (2.21)\n",
      "Requirement already satisfied: arrow>=0.15.0 in d:\\py\\anaconda3\\envs\\tf2.6\\lib\\site-packages (from isoduration->jsonschema>=2.6->nbformat>=5.7->nbconvert->pyqlib) (1.3.0)\n",
      "Requirement already satisfied: types-python-dateutil>=2.8.10 in d:\\py\\anaconda3\\envs\\tf2.6\\lib\\site-packages (from arrow>=0.15.0->isoduration->jsonschema>=2.6->nbformat>=5.7->nbconvert->pyqlib) (2.9.0.20241206)\n"
     ]
    },
    {
     "name": "stderr",
     "output_type": "stream",
     "text": [
      "WARNING: Ignoring invalid distribution -rotobuf (d:\\py\\anaconda3\\envs\\tf2.6\\lib\\site-packages)\n",
      "WARNING: Ignoring invalid distribution -rotobuf (d:\\py\\anaconda3\\envs\\tf2.6\\lib\\site-packages)\n",
      "WARNING: Ignoring invalid distribution -rotobuf (d:\\py\\anaconda3\\envs\\tf2.6\\lib\\site-packages)\n",
      "WARNING: Ignoring invalid distribution -rotobuf (d:\\py\\anaconda3\\envs\\tf2.6\\lib\\site-packages)\n",
      "WARNING: Ignoring invalid distribution -rotobuf (d:\\py\\anaconda3\\envs\\tf2.6\\lib\\site-packages)\n",
      "WARNING: Ignoring invalid distribution -rotobuf (d:\\py\\anaconda3\\envs\\tf2.6\\lib\\site-packages)\n"
     ]
    }
   ],
   "source": [
    "!pip install pyqlib"
   ]
  },
  {
   "cell_type": "code",
   "execution_count": 2,
   "id": "9ed8e400-c0e4-420c-ada1-761cd84c722b",
   "metadata": {},
   "outputs": [
    {
     "data": {
      "text/plain": [
       "'0.9.6'"
      ]
     },
     "execution_count": 2,
     "metadata": {},
     "output_type": "execute_result"
    }
   ],
   "source": [
    "import qlib\n",
    "qlib.__version__"
   ]
  },
  {
   "cell_type": "code",
   "execution_count": 9,
   "id": "9cc584a2-5cce-438e-8dfc-0d06a95716e0",
   "metadata": {},
   "outputs": [],
   "source": [
    "import pickle as pkl\n",
    "import pandas as pd\n",
    "\n",
    "with open(r'D:\\金工组实习\\科创版股票list.pkl', \"rb\") as f:\n",
    "    object = pkl.load(f, encoding='utf-8')\n",
    "    \n",
    "df = pd.DataFrame(object)\n",
    "\n",
    "df.to_csv(r'D:\\金工组实习\\科创版股票list.csv', index=False)"
   ]
  },
  {
   "cell_type": "code",
   "execution_count": 2,
   "id": "55d544a1-02e0-4ce4-a6f2-a07b66f39c23",
   "metadata": {},
   "outputs": [
    {
     "name": "stdout",
     "output_type": "stream",
     "text": [
      "2.2.3\n"
     ]
    }
   ],
   "source": [
    "import pandas as pd\n",
    "print(pd.__version__)"
   ]
  },
  {
   "cell_type": "code",
   "execution_count": null,
   "id": "63c28d5a-2c6c-4ad9-9fdd-5a35221c674f",
   "metadata": {},
   "outputs": [],
   "source": [
    "!pip uninstall pandas"
   ]
  },
  {
   "cell_type": "code",
   "execution_count": 3,
   "id": "5d74cfb7-ff24-4bdb-84da-1db9c81671f4",
   "metadata": {},
   "outputs": [
    {
     "name": "stdout",
     "output_type": "stream",
     "text": [
      "1.26.4\n"
     ]
    }
   ],
   "source": [
    "import numpy as np\n",
    "print(np.__version__)"
   ]
  },
  {
   "cell_type": "markdown",
   "id": "042fdd82-0601-4492-80c5-72fa8a3f3e8b",
   "metadata": {},
   "source": [
    "## 初始化运行环境"
   ]
  },
  {
   "cell_type": "code",
   "execution_count": null,
   "id": "66785ee5-13a8-4391-87fe-997f85294682",
   "metadata": {},
   "outputs": [],
   "source": [
    "#初始化数据环境\n",
    "import qlib\n",
    "qlib.init(provider_uri = \"./dataset/qlib_sh_data/sh_data\")"
   ]
  },
  {
   "cell_type": "markdown",
   "id": "571a0acd-ff46-48b5-962c-a90916154a8d",
   "metadata": {},
   "source": [
    "## 获取交易日期和全部股票代码"
   ]
  },
  {
   "cell_type": "markdown",
   "id": "0a9bf6ac-2c06-4c6f-9ee7-5dbc9ed15b30",
   "metadata": {},
   "source": [
    "调用qlib.data 模块可读取原始数据。例如qlib.data.calendar 命令可读取指定时间区间内\n",
    "交易日期；qlib.data.instruments 命令可定义股票池，参数market=’all’代表选取全部个股\n",
    "构成股票池；qlib.data.list_instruments 命令可以展示指定时间区间内的股票池，时间区间\n",
    "的意义在于，股票池可能会随时间动态变化，如指数成分股票池。"
   ]
  },
  {
   "cell_type": "code",
   "execution_count": null,
   "id": "320bc834-0eab-4b6a-95f8-77086127b632",
   "metadata": {},
   "outputs": [],
   "source": [
    "from qlib.data import D\n",
    "\n",
    "#获取2024年1-11月交易日期\n",
    "trade_date = D.calendar(start_time='2024-01-01', end_time='2024-11-30', freq='day')\n",
    "#展示前5个交易日期\n",
    "print(trade_date[:5])"
   ]
  },
  {
   "cell_type": "code",
   "execution_count": null,
   "id": "5c266c89-9e66-4ee3-8e45-29aa9d2ab9b5",
   "metadata": {},
   "outputs": [],
   "source": [
    "#例: 获取2020年7-11月全部港股代码\n",
    "instruments = D.instruments(market='all')\n",
    "stock_list = D.list_instruments(instruments=instruments,\n",
    "                                start_time='2020-07-01',\n",
    "                                end_time='2020-11-30',\n",
    "                                as_list=True)\n",
    "#展示后5个股票代码\n",
    "print(stock_list[-5:])"
   ]
  },
  {
   "cell_type": "markdown",
   "id": "c60c49e2-491c-468f-a2bc-e4f07e55c9f4",
   "metadata": {},
   "source": [
    "## 获取指定股票指定日期指定字段数据"
   ]
  },
  {
   "cell_type": "markdown",
   "id": "bdff5c00-dd85-4d0f-8be9-f8f0ddd90012",
   "metadata": {},
   "source": [
    "调用qlib.data.features 模块可以获取指定股票指定日期指定字段数据，例如获取腾讯控股（0700 HK）在2020年1月初至11 月底的日频后复权收盘价和成交量。"
   ]
  },
  {
   "cell_type": "code",
   "execution_count": null,
   "id": "dbc729eb-a49f-49e1-ba06-63d40da92d03",
   "metadata": {},
   "outputs": [],
   "source": [
    "features_df = D.features(instruments=['HK0700'], fields=['$close','$volume'],\n",
    "                         start_time='2020-01-01', end_time='2020-11-30',freq='day')\n",
    "print(features_df.head())"
   ]
  },
  {
   "cell_type": "markdown",
   "id": "255c4316-6745-451c-9c1d-ab8254852037",
   "metadata": {},
   "source": [
    "## 自定义股票池"
   ]
  },
  {
   "cell_type": "markdown",
   "id": "198fe247-822c-4daa-9bca-b45db31b7bc3",
   "metadata": {},
   "source": [
    "采用qlib.data.filter 模块自定义股票池。首先，使用 qlib.data.filter.NameDFilter\n",
    "命令进行股票名称静态筛选，参数 name_rule_re 为纳入股票代码的正则表达式，如\n",
    "HK[0-9!]表示以 HK开头，后续为数字或感叹号的股票代码，感叹号代表目前已退市股票。  \n",
    "其次，使用 qlib.data.filter.ExpressionDFilter 命令进行股票因子表达式的动态筛选，参数\n",
    "rule_expression 为入选的因子表达式，如$close>=1 代表收盘价应大于等于1元。随后，\n",
    "通过qlib.data.instruments 命令的参数 filter_pipe，将两个筛选条件组装到一起。 "
   ]
  },
  {
   "cell_type": "code",
   "execution_count": null,
   "id": "2ada0fb6-c58f-49ad-9f1f-780f654f4314",
   "metadata": {},
   "outputs": [],
   "source": [
    "from qlib.data.filter import NameDFilter, ExpressionDFilter\n",
    "#静态Filter:除恒生指数(HKHSI)外的港股\n",
    "nameDFilter = NameDFilter(name_rule_re='HK[0-9!]')\n",
    "#动态Filter:后复权价格大于等于1元\n",
    "expressionDFilter = ExpressionDFilter(rule_expression='$close >= 1')\n",
    "#获取港股2020年7-11月满足条件的港股代码\n",
    "instruments = D.instruments(market='all',filter_pipe=[nameDFliter,expressionDFilter])\n",
    "stock_list = D.list_instruments(instruments=instruments,\n",
    "                                start_time='2020-07-01',\n",
    "                                end_time='2020-11-30',\n",
    "                                as_list=True)\n",
    "#展示后5个股票代码\n",
    "print(stock_list[-5:])"
   ]
  },
  {
   "cell_type": "markdown",
   "id": "d4fbde34-86ca-4141-b8d5-2c2e3e39683c",
   "metadata": {},
   "source": [
    "## Alpha158 因子库 "
   ]
  },
  {
   "cell_type": "markdown",
   "id": "f2a4fb5a-02c2-434e-b15c-4d126ad63440",
   "metadata": {},
   "source": [
    "Qlib提供Alpha158 和 Alpha360 两类量价因子库，用户也可根据需要自定义因子库"
   ]
  },
  {
   "cell_type": "markdown",
   "id": "b8a23f95-c5c3-4f6a-a2ac-9a2d915a9db5",
   "metadata": {},
   "source": [
    "生成Alpha158因子调用qlib.contrib.data.handler 模块下的 Alpha158 类，具体命令为：  \n",
    "from qlib.contrib.data.handler import Alpha158  \n",
    "h = Alpha158(**data_handler_config)同。"
   ]
  },
  {
   "cell_type": "markdown",
   "id": "0eebff8e-bbeb-4f8e-b7ec-3ab233616ec2",
   "metadata": {},
   "source": [
    "### 生成Alpha158特征（当期因子）和标签（下期收益）"
   ]
  },
  {
   "cell_type": "code",
   "execution_count": null,
   "id": "d74c9d29-deff-471f-b38b-97a2e2335c0e",
   "metadata": {},
   "outputs": [],
   "source": [
    "from qlib.contrib.data.handler import Alpha158\n",
    "\n",
    "#设置日期 股票池等参数\n",
    "data_handler_config = {\n",
    "    \"start_time\":\"2020-01-01\",\n",
    "    \"end_time\":\"2020-11-30\",\n",
    "    \"fit_start_time\":\"2020-01-01\",\n",
    "    \"fit_end_time\":\"2020-06-30\",\n",
    "    \"instruments\":instruments,\n",
    "}\n",
    "\n",
    "h = Alpha158(**data_handler_config)\n",
    "\n",
    "#获取列名(因子名称)\n",
    "print(h.get_cols())"
   ]
  },
  {
   "cell_type": "markdown",
   "id": "bc041611-f92f-4853-a857-5646e792902c",
   "metadata": {},
   "source": [
    "### 获取Alpha158因子库标签（下期收益）"
   ]
  },
  {
   "cell_type": "code",
   "execution_count": null,
   "id": "dc9e9ef4-b94b-486e-a6a7-045bcabdeca9",
   "metadata": {},
   "outputs": [],
   "source": [
    "#获取标签(收益)\n",
    "Alpha158_df_label = h.fetch(col_set=\"label\")\n",
    "print(Alpha158_df_label)"
   ]
  },
  {
   "cell_type": "markdown",
   "id": "747fa416-fa00-4cb2-b070-441f5aa51f3a",
   "metadata": {},
   "source": [
    "### 获取Alpha158因子库特征（当期因子）"
   ]
  },
  {
   "cell_type": "code",
   "execution_count": null,
   "id": "ae760580-9b42-438a-bbb8-50d81822bfee",
   "metadata": {},
   "outputs": [],
   "source": [
    "#获取特征(因子)\n",
    "Alpha158_df_feature = h.fetch(col_set=\"feature\")\n",
    "print(Alpha158_df_feature)"
   ]
  },
  {
   "cell_type": "markdown",
   "id": "a1158484-da37-4be8-ba67-3c4112d75b95",
   "metadata": {},
   "source": [
    "## LightGBM 选股策略构建 "
   ]
  },
  {
   "cell_type": "markdown",
   "id": "a33860d5-08d4-4232-a5e3-54d9d3a600e1",
   "metadata": {},
   "source": [
    "### 导入Qlib模块代码  (和原文略有出入,有些写法更新了)"
   ]
  },
  {
   "cell_type": "code",
   "execution_count": 4,
   "id": "7f74c73e-3d76-4afd-841a-1d53aafa57c8",
   "metadata": {},
   "outputs": [],
   "source": [
    "import time\n",
    "import numpy as np\n",
    "import pandas as pd \n",
    "\n",
    "import qlib\n",
    "import pandas as pd\n",
    "from qlib.config import REG_CN\n",
    "from qlib.contrib.model.gbdt import LGBModel\n",
    "from qlib.contrib.data.handler import Alpha158\n",
    "from qlib.contrib.strategy import TopkDropoutStrategy\n",
    "from qlib.contrib.evaluate import risk_analysis, backtest_daily\n",
    "from qlib.utils import exists_qlib_data, init_instance_by_config, flatten_dict\n",
    "from qlib.workflow import R\n",
    "from qlib.workflow.record_temp import SignalRecord, PortAnaRecord"
   ]
  },
  {
   "cell_type": "markdown",
   "id": "f502ee01-9a95-4854-bc7c-65a73f0b82b2",
   "metadata": {},
   "source": [
    "### 定义股票池和基准指数代码"
   ]
  },
  {
   "cell_type": "code",
   "execution_count": null,
   "id": "58e615ad-d19a-467c-83ac-a7b1f0d2b393",
   "metadata": {},
   "outputs": [],
   "source": [
    "market =  instruments\n",
    "benchmark = \"HKHSI\""
   ]
  },
  {
   "cell_type": "markdown",
   "id": "5c57571d-5fe4-49a0-afe3-483dcc079def",
   "metadata": {},
   "source": [
    "### 因子生成参数data_handler_config和模型训练参数task设置"
   ]
  },
  {
   "cell_type": "code",
   "execution_count": null,
   "id": "703a7aac-9f8b-4884-9875-c04dc63ce30a",
   "metadata": {},
   "outputs": [],
   "source": [
    "###################################\n",
    "# train model\n",
    "###################################\n",
    "'''\n",
    "定义因子生成参数data_handler_config\n",
    "data_handler_config相当于配置文件，字典类型，\n",
    "用来定义完整数据起止日期（start_time和end_time），\n",
    "拟合数据起止日期（fit_start_time和fit_end_time），\n",
    "股票池（instruments）等。\n",
    "拟合数据起止日期区间应为完整数据起止日期数据的子集\n",
    "'''\n",
    "data_handler_config = {\n",
    "        \"start_time\": \"2020-01-01\",\n",
    "        \"end_time\": \"2020-11-30\",\n",
    "        \"fit_start_time\": \"2020-01-01\",\n",
    "        \"fit_end_time\": \"2020-06-30\",\n",
    "        \"instruments\": market,\n",
    "}\n",
    "\n",
    "'''\n",
    "定义模型训练参数task\n",
    "分为model和dataset\n",
    "'''\n",
    "\n",
    "# 第一项model为AI模型参数，\n",
    "# 必须包含class（AI模型名称）和module_path（AI模型所在路径）两个子键；\n",
    "# kwargs为model的可选子键，通过kwargs设置指定AI模型的超参数\n",
    "\n",
    "task = {\n",
    "    \"model\": {\n",
    "        \"class\": \"LGBModel\",#A模型名称,此处为 LightGBM\n",
    "        \"module_path\": \"qlib.contrib.model.gbdt\",#A模型所在路径\n",
    "        \"kwargs\": {#LightGBM模型超参数\n",
    "            \"loss\": \"mse\",#損失函数,此处为均方误差\n",
    "            \"colsample_bytree\": 0.8879,#列采样比例\n",
    "            \"learning_rate\": 0.0421,#学习率\n",
    "            \"subsample\": 0.8789,#行采样比例\n",
    "            \"lambda_l1\": 205.6999,#L1正则化惩罚系数\n",
    "            \"lambda_l2\": 580.9768,#L2正则化惩罚系数\n",
    "            \"max_depth\": 8,#最大树深\n",
    "            \"num_leaves\": 210,#最大叶子节点数\n",
    "            \"num_threads\": 20,#最大并行线程数\n",
    "        },\n",
    "    },\n",
    "    \n",
    "# 第二项dataset为数据集参数，必须包含class（数据集名称）和\n",
    "# module_path（数据集所在路径）两个子键；kwargs为dataset的可选子键，\n",
    "# 通过kwargs设置指定数据集的参数\n",
    "\n",
    "    \"dataset\": {\n",
    "        \"class\": \"DatasetH\",#数据集名称\n",
    "        \"module_path\": \"qlib.data.dataset\",#数据集所在路径\n",
    "        \"kwargs\": {#Dataset模型参数\n",
    "            \"handler\": {#因子库参数,处理器\n",
    "                \"class\": \"Alpha158\",#因子库名称,继承自DataHandlerLP\n",
    "                \"module_path\": \"qlib.contrib.data.handler\",#因子库路径\n",
    "                \"kwargs\": data_handler_config,#Apha158因子库参数\n",
    "            },\n",
    "            \"segments\": {#时间划分参数\n",
    "                \"train\": (\"2018-01-01\", \"2019-12-31\"),#训练集时间区间\n",
    "                \"valid\": (\"2020-01-01\", \"2020-06-30\"),#验证集时间区间\n",
    "                \"test\": (\"2020-07-01\", \"2021-01-22\"),#测试集时间区间\n",
    "            },\n",
    "        },\n",
    "    },\n",
    "}\n",
    "\n",
    "# model initiaiton, 实例化模型对象\n",
    "model = init_instance_by_config(task[\"model\"])\n",
    "#实例化因子库数据集,从基础行情数据计算出的包含所有特征因子和标签值的数据集\n",
    "dataset = init_instance_by_config(task[\"dataset\"])"
   ]
  },
  {
   "cell_type": "markdown",
   "id": "e7e67cdd-54ac-4cc8-b00c-e61c1c722df4",
   "metadata": {},
   "source": [
    "### 模型训练"
   ]
  },
  {
   "cell_type": "code",
   "execution_count": null,
   "id": "f617b3a0-0579-45b4-8b22-e27f6aeae5dc",
   "metadata": {},
   "outputs": [],
   "source": [
    "# start exp to train model\n",
    "'''\n",
    "正式进行训练\n",
    "例: 读入数据及数据预处理时间开销约为54.120秒，训练模型时间开销约为118秒。\n",
    "LightGBM模型迭代的实质是参数优化，\n",
    "当验证集损失连续50轮未降低时停止迭代\n",
    "例: 此处迭代71次后结束训练\n",
    "''' \n",
    "t_start = time.time()\n",
    "\n",
    "#qlib.workflow.start开启训练；R是流管理器\n",
    "with R.start(experiment_name=\"train_model\"):\n",
    "    R.log_params(**flatten_dict(task))\n",
    "    \n",
    "    #model.fit拟合模型；\n",
    "    model.fit(dataset)\n",
    "    \n",
    "    #qlib.workflow.save_objects保存模型；\n",
    "    R.save_objects(trained_model=model)\n",
    "    \n",
    "    #qlib.workflow.get_recorder().id获取“实验”（即模型训练）记录的编号\n",
    "    rid = R.get_recorder().id\n",
    "\n",
    "t_end = time.time()\n",
    "print('train model - Time count: %.3fs'%(t_end-t_start))"
   ]
  },
  {
   "cell_type": "markdown",
   "id": "5ea9b79d-fd16-45fc-9a3c-1c957fef50a1",
   "metadata": {},
   "source": [
    "### 选股策略回测"
   ]
  },
  {
   "cell_type": "code",
   "execution_count": null,
   "id": "827caec2-22a7-4c23-b4a5-3cc8b0ce1dfc",
   "metadata": {},
   "outputs": [],
   "source": [
    "###################################\n",
    "# prediction, backtest & analysis\n",
    "###################################\n",
    "'''\n",
    "接下来设置策略回测参数port_analysis_config，\n",
    "该参数为字典类型，又可以分为strategy和backtest两个子键。\n",
    "\n",
    "第一项strategy为策略参数，\n",
    "例如此处使用TopkDropout策略，\n",
    "每日等权持有topk=50只股票，\n",
    "同时每日卖出持仓股票中最新预测收益最低的n_drop=5只股票，\n",
    "买入未持仓股票中最新预测收益最高的n_drop=5只股票。\n",
    "\n",
    "第二项backtest为策略回测参数，\n",
    "用于设置涨跌停限制、起始资金、业绩比较基准、成交价格、交易费率等信息\n",
    "\n",
    "'''\n",
    "port_analysis_config = {\n",
    "    \"strategy\": {#策略参数\n",
    "        \"class\": \"TopkDropoutStrategy\",#策略名称\n",
    "        \"module_path\": \"qlib.contrib.strategy.strategy\",#策略所在路径\n",
    "        \"kwargs\": {#TopkDropout策略参数\n",
    "            \"topk\": 5,#每日持仓股票数\n",
    "            \"n_drop\": 2,#每日换仓股票数\n",
    "        },\n",
    "    },\n",
    "    \"backtest\": {#回测参数\n",
    "        \"verbose\": False,#是否实时显示回测信息\n",
    "        \"limit_threshold\": 0.095,#涨跌停限制,港股不设涨跌停\n",
    "        \"account\": 100000,#起始资金\n",
    "        \"benchmark\": benchmark,#业绩比较基准,此处为上证300\n",
    "        \"deal_price\": \"close\",#成交价格,此处为收盘价\n",
    "        \"open_cost\": 0.0005,#开仓交易费率\n",
    "        \"close_cost\": 0.0015,#平仓交易费率\n",
    "        \"min_cost\": 1000,#最低交易费用\n",
    "    },\n",
    "}\n",
    "\n",
    "# backtest and analysis\n",
    "'''\n",
    "调用qlib.workflow模块正式进行回测，依次执行如下命令：\n",
    "qlib.workflow.record_temp.SignalRecord初始化调仓信号；\n",
    "qlib.workflow.record_temp.PortAnaRecord初始化回测及绩效分析；\n",
    "'''\n",
    "\n",
    "#qlib.workflow.start开启回测；\n",
    "with R.start(experiment_name=\"backtest_analysis\"):\n",
    "    #qlib.workflow.get_recorder获取此前模型训练“实验”记录；\n",
    "    recorder = R.get_recorder(rid, experiment_name=\"train_model\")\n",
    "    \n",
    "    #recorder.load_object读取模型；\n",
    "    model = recorder.load_object(\"trained_model\")\n",
    "\n",
    "    #qlib.workflow.get_recorder初始化回测“实验”记录；\n",
    "    recorder = R.get_recorder()  \n",
    "    ba_rid = recorder.id\n",
    "    \n",
    "    #回传给recorder\n",
    "    sr = SignalRecord(model, dataset, recorder)\n",
    "    #生成预测结果，利用recorder记录结果\n",
    "    sr.generate()\n",
    "\n",
    "    # 在测试集上执行回测\n",
    "    #创建组合分析记录器，其中实验记录器把预测值带进来，并记录最终回测结果\n",
    "    par = PortAnaRecord(recorder, port_analysis_config)\n",
    "    par.generate()#par.generate生成回测及绩效分析结果\n",
    "\n",
    "t_end = time.time()\n",
    "print('backtest and analysis - Time count: %.3fs'%(t_end-t_start))"
   ]
  },
  {
   "cell_type": "markdown",
   "id": "e914c8d4-448e-49c2-a3ed-efd4e0c56559",
   "metadata": {},
   "source": [
    "### 回测和绩效分析结果展示"
   ]
  },
  {
   "cell_type": "code",
   "execution_count": null,
   "id": "c8cf095f-f08a-4421-87f0-9b1e785bd7aa",
   "metadata": {},
   "outputs": [],
   "source": [
    "'''\n",
    "完成策略回测后，调用qlib.contrib.report模块展示回测和绩效分析结果。\n",
    "展示前首先执行qlib.workflow.get_recorder获取回测“实验”记录，\n",
    "相关结果均储存为pkl格式，\n",
    "执行recorder.load_object读取\n",
    "预测结果pred.pkl、\n",
    "回测报告report_normal.pkl、\n",
    "仓位情况positions_normal.pkl\n",
    "和持仓分析port_analysis.pkl\n",
    "'''\n",
    "from qlib.contrib.report import analysis_model, analysis_position\n",
    "from qlib.data import D\n",
    "recorder = R.get_recorder(ba_rid, experiment_name=\"backtest_analysis\")\n",
    "pred_df = recorder.load_object(\"pred.pkl\")\n",
    "pred_df_dates = pred_df.index.get_level_values(level='datetime')\n",
    "report_normal_df = recorder.load_object(\"portfolio_analysis/report_normal.pkl\")\n",
    "positions = recorder.load_object(\"portfolio_analysis/positions_normal.pkl\")\n",
    "analysis_df = recorder.load_object(\"portfolio_analysis/port_analysis.pkl\")"
   ]
  },
  {
   "cell_type": "markdown",
   "id": "06a6e0de-0d68-48e9-8d80-88b93f1d9ce7",
   "metadata": {},
   "source": [
    "### AI模型预测结果IC和Rank IC"
   ]
  },
  {
   "cell_type": "code",
   "execution_count": null,
   "id": "e228f2ee-3f71-4380-a2fe-8a5035220a8a",
   "metadata": {},
   "outputs": [],
   "source": [
    "label_df = dataset.prepare(\"test\", col_set=\"label\")\n",
    "label_df.columns = ['label']\n",
    "\n",
    "#展示AI模型预测个股收益的IC和Rank IC值\n",
    "pred_label = pd.concat([label_df, pred_df], axis=1, sort=True).reindex(label_df.index)\n",
    "analysis_position.score_ic_graph(pred_label)"
   ]
  }
 ],
 "metadata": {
  "kernelspec": {
   "display_name": "Python 3 (ipykernel)",
   "language": "python",
   "name": "python3"
  },
  "language_info": {
   "codemirror_mode": {
    "name": "ipython",
    "version": 3
   },
   "file_extension": ".py",
   "mimetype": "text/x-python",
   "name": "python",
   "nbconvert_exporter": "python",
   "pygments_lexer": "ipython3",
   "version": "3.9.13"
  }
 },
 "nbformat": 4,
 "nbformat_minor": 5
}
